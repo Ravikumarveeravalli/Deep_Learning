{
 "cells": [
  {
   "cell_type": "code",
   "execution_count": 1,
   "id": "5a77c38c",
   "metadata": {},
   "outputs": [],
   "source": [
    "import numpy as np"
   ]
  },
  {
   "cell_type": "code",
   "execution_count": 9,
   "id": "060027f7",
   "metadata": {},
   "outputs": [
    {
     "name": "stdout",
     "output_type": "stream",
     "text": [
      "AND output: 0\n",
      "OR output: 1\n"
     ]
    }
   ],
   "source": [
    "def MCP_Neuron(inputs,weights,activation):\n",
    "\n",
    "    if activation == \"and\":\n",
    "        threshold = np.sum(weights)\n",
    "    elif activation == \"or\":\n",
    "        threshold = 1\n",
    "    else:\n",
    "        raise ValueError(\"Invalid activation. Please choose 'and' or 'or'.\")\n",
    "\n",
    "    weighted_sum = np.sum(inputs * weights)\n",
    "\n",
    "    if weighted_sum >= threshold:\n",
    "        return 1\n",
    "    else:\n",
    "        return 0\n",
    "    \n",
    "inputs_and = np.array([1, 1, -1])  # n-dimensional inputs for AND operation\n",
    "inputs_or = np.array([1,0,0])   # n-dimensional inputs for OR operation\n",
    "weights = np.array([1,2,4])\n",
    "output_and = MCP_Neuron(inputs_and,weights, \"and\")\n",
    "output_or = MCP_Neuron(inputs_or,weights, \"or\")\n",
    "\n",
    "print(\"AND output:\", output_and)\n",
    "print(\"OR output:\", output_or)"
   ]
  },
  {
   "cell_type": "code",
   "execution_count": null,
   "id": "0d697353",
   "metadata": {},
   "outputs": [],
   "source": []
  },
  {
   "cell_type": "code",
   "execution_count": null,
   "id": "e2433f02",
   "metadata": {},
   "outputs": [],
   "source": []
  }
 ],
 "metadata": {
  "kernelspec": {
   "display_name": "Python 3 (ipykernel)",
   "language": "python",
   "name": "python3"
  },
  "language_info": {
   "codemirror_mode": {
    "name": "ipython",
    "version": 3
   },
   "file_extension": ".py",
   "mimetype": "text/x-python",
   "name": "python",
   "nbconvert_exporter": "python",
   "pygments_lexer": "ipython3",
   "version": "3.9.13"
  }
 },
 "nbformat": 4,
 "nbformat_minor": 5
}
